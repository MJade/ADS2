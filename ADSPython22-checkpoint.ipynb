{
 "cells": [
  {
   "cell_type": "code",
   "execution_count": 2,
   "metadata": {},
   "outputs": [
    {
     "name": "stdout",
     "output_type": "stream",
     "text": [
      "This is line  1\n",
      "['07/04/1992', ' Tayo', ' Cambridge', ' lemons', ' carrot cake']\n",
      "This is line  2\n",
      "['07/04/1992', ' Tayo', ' Cambridge', ' lemons', ' carrot cake']\n",
      "This is line  3\n",
      "['07/04/1992', ' Tayo', ' Cambridge', ' lemons', ' carrot cake']\n",
      "This is line  4\n",
      "['07/04/1992', ' Tayo', ' Cambridge', ' lemons', ' carrot cake']\n",
      "This is line  5\n",
      "['07/04/1992', ' Tayo', ' Cambridge', ' lemons', ' carrot cake']\n"
     ]
    }
   ],
   "source": [
    "import csv\n",
    "\n",
    "with open('exampleADS2.csv') as csvfile:\n",
    "    readCSV = csv.reader(csvfile, delimiter=',')\n",
    "    \n",
    "    pline = 1\n",
    "    for row in readCSV:\n",
    "        while pline < 6:\n",
    "            print(\"This is line \", pline)\n",
    "            print(row)\n",
    "            pline += 1    "
   ]
  },
  {
   "cell_type": "code",
   "execution_count": null,
   "metadata": {},
   "outputs": [],
   "source": []
  }
 ],
 "metadata": {
  "kernelspec": {
   "display_name": "Python 3",
   "language": "python",
   "name": "python3"
  },
  "language_info": {
   "codemirror_mode": {
    "name": "ipython",
    "version": 3
   },
   "file_extension": ".py",
   "mimetype": "text/x-python",
   "name": "python",
   "nbconvert_exporter": "python",
   "pygments_lexer": "ipython3",
   "version": "3.8.5"
  }
 },
 "nbformat": 4,
 "nbformat_minor": 4
}
